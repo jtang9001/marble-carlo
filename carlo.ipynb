{
 "cells": [
  {
   "cell_type": "code",
   "execution_count": 5,
   "metadata": {},
   "outputs": [],
   "source": [
    "import pandas as pd\n",
    "import numpy as np\n",
    "import seaborn as sns"
   ]
  },
  {
   "cell_type": "code",
   "execution_count": 8,
   "metadata": {},
   "outputs": [
    {
     "output_type": "execute_result",
     "data": {
      "text/plain": "   Team               Balancing   Halfpipe   Funnel Endurance   \\\n0  Minty Maniacs              25         15                 25   \n1  O'rangers                   6         25                 20   \n2  Crazy Cat's Eyes           11         20                 10   \n3  Raspberry Racers           20          7                  7   \n4  Balls of Chaos             12          3                 11   \n\n   Newton's Cradle   Long Jump   5 Meter Hurdles   Block Pushing   Relay Run   \\\n0                10           8                 8                               \n1                25           4                10                               \n2                12          25                12                               \n3                15           1                25                               \n4                 3          20                 1                               \n\n   Event 9   Event 10   Event 11   Event 12   Event 13   Event 14   Event 15   \\\n0                                                                               \n1                                                                               \n2                                                                               \n3                                                                               \n4                                                                               \n\n   Event 16  \n0       NaN  \n1       NaN  \n2       NaN  \n3       NaN  \n4       NaN  ",
      "text/html": "<div>\n<style scoped>\n    .dataframe tbody tr th:only-of-type {\n        vertical-align: middle;\n    }\n\n    .dataframe tbody tr th {\n        vertical-align: top;\n    }\n\n    .dataframe thead th {\n        text-align: right;\n    }\n</style>\n<table border=\"1\" class=\"dataframe\">\n  <thead>\n    <tr style=\"text-align: right;\">\n      <th></th>\n      <th>Team</th>\n      <th>Balancing</th>\n      <th>Halfpipe</th>\n      <th>Funnel Endurance</th>\n      <th>Newton's Cradle</th>\n      <th>Long Jump</th>\n      <th>5 Meter Hurdles</th>\n      <th>Block Pushing</th>\n      <th>Relay Run</th>\n      <th>Event 9</th>\n      <th>Event 10</th>\n      <th>Event 11</th>\n      <th>Event 12</th>\n      <th>Event 13</th>\n      <th>Event 14</th>\n      <th>Event 15</th>\n      <th>Event 16</th>\n    </tr>\n  </thead>\n  <tbody>\n    <tr>\n      <td>0</td>\n      <td>Minty Maniacs</td>\n      <td>25</td>\n      <td>15</td>\n      <td>25</td>\n      <td>10</td>\n      <td>8</td>\n      <td>8</td>\n      <td></td>\n      <td></td>\n      <td></td>\n      <td></td>\n      <td></td>\n      <td></td>\n      <td></td>\n      <td></td>\n      <td></td>\n      <td>NaN</td>\n    </tr>\n    <tr>\n      <td>1</td>\n      <td>O'rangers</td>\n      <td>6</td>\n      <td>25</td>\n      <td>20</td>\n      <td>25</td>\n      <td>4</td>\n      <td>10</td>\n      <td></td>\n      <td></td>\n      <td></td>\n      <td></td>\n      <td></td>\n      <td></td>\n      <td></td>\n      <td></td>\n      <td></td>\n      <td>NaN</td>\n    </tr>\n    <tr>\n      <td>2</td>\n      <td>Crazy Cat's Eyes</td>\n      <td>11</td>\n      <td>20</td>\n      <td>10</td>\n      <td>12</td>\n      <td>25</td>\n      <td>12</td>\n      <td></td>\n      <td></td>\n      <td></td>\n      <td></td>\n      <td></td>\n      <td></td>\n      <td></td>\n      <td></td>\n      <td></td>\n      <td>NaN</td>\n    </tr>\n    <tr>\n      <td>3</td>\n      <td>Raspberry Racers</td>\n      <td>20</td>\n      <td>7</td>\n      <td>7</td>\n      <td>15</td>\n      <td>1</td>\n      <td>25</td>\n      <td></td>\n      <td></td>\n      <td></td>\n      <td></td>\n      <td></td>\n      <td></td>\n      <td></td>\n      <td></td>\n      <td></td>\n      <td>NaN</td>\n    </tr>\n    <tr>\n      <td>4</td>\n      <td>Balls of Chaos</td>\n      <td>12</td>\n      <td>3</td>\n      <td>11</td>\n      <td>3</td>\n      <td>20</td>\n      <td>1</td>\n      <td></td>\n      <td></td>\n      <td></td>\n      <td></td>\n      <td></td>\n      <td></td>\n      <td></td>\n      <td></td>\n      <td></td>\n      <td>NaN</td>\n    </tr>\n  </tbody>\n</table>\n</div>"
     },
     "metadata": {},
     "execution_count": 8
    }
   ],
   "source": [
    "df = pd.read_csv('standings2.csv')\n",
    "df.head()"
   ]
  },
  {
   "cell_type": "code",
   "execution_count": null,
   "metadata": {},
   "outputs": [],
   "source": []
  }
 ],
 "metadata": {
  "language_info": {
   "codemirror_mode": {
    "name": "ipython",
    "version": 3
   },
   "file_extension": ".py",
   "mimetype": "text/x-python",
   "name": "python",
   "nbconvert_exporter": "python",
   "pygments_lexer": "ipython3",
   "version": 3
  },
  "orig_nbformat": 2,
  "kernelspec": {
   "name": "python_defaultSpec_1594965077937",
   "display_name": "Python 3.7.3 64-bit ('skynetvenv': venv)"
  }
 },
 "nbformat": 4,
 "nbformat_minor": 2
}